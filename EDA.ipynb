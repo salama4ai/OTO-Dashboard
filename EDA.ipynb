{
 "cells": [
  {
   "cell_type": "code",
   "execution_count": 1,
   "id": "232e1575-9308-4bf4-ab3c-43715c22330a",
   "metadata": {},
   "outputs": [],
   "source": [
    "import pandas as pd\n",
    "import numpy as np\n",
    "import matplotlib.pyplot as plt\n",
    "import seaborn as sns"
   ]
  },
  {
   "cell_type": "code",
   "execution_count": 36,
   "id": "3941551c-0ecc-4afd-888d-68ae469ed25e",
   "metadata": {},
   "outputs": [],
   "source": [
    "pd.options.display.max_rows = 100\n",
    "pd.options.display.max_colwidth = 299"
   ]
  },
  {
   "cell_type": "code",
   "execution_count": 37,
   "id": "99656962-876b-4f56-99ee-f2a961bb392d",
   "metadata": {},
   "outputs": [],
   "source": [
    "df_def = pd.read_excel(\"Ops dashboard - Assessment.xlsx\", sheet_name=\"Definitions & formulas\")"
   ]
  },
  {
   "cell_type": "code",
   "execution_count": 41,
   "id": "41156563-f195-4dd1-a51e-dffabf2df029",
   "metadata": {},
   "outputs": [],
   "source": [
    "# df_def"
   ]
  },
  {
   "cell_type": "code",
   "execution_count": 35,
   "id": "dbc16154-da24-46d1-b941-01038f119481",
   "metadata": {},
   "outputs": [
    {
     "data": {
      "text/html": [
       "<div>\n",
       "<style scoped>\n",
       "    .dataframe tbody tr th:only-of-type {\n",
       "        vertical-align: middle;\n",
       "    }\n",
       "\n",
       "    .dataframe tbody tr th {\n",
       "        vertical-align: top;\n",
       "    }\n",
       "\n",
       "    .dataframe thead th {\n",
       "        text-align: right;\n",
       "    }\n",
       "</style>\n",
       "<table border=\"1\" class=\"dataframe\">\n",
       "  <thead>\n",
       "    <tr style=\"text-align: right;\">\n",
       "      <th></th>\n",
       "      <th>Order Number</th>\n",
       "      <th>Unnamed: 1</th>\n",
       "    </tr>\n",
       "  </thead>\n",
       "  <tbody>\n",
       "    <tr>\n",
       "      <th>17</th>\n",
       "      <td>Delivery success rate</td>\n",
       "      <td>% of (Orders status = delivered ) of Count of (Order number) with a specific / range of (Pickup date time)</td>\n",
       "    </tr>\n",
       "    <tr>\n",
       "      <th>18</th>\n",
       "      <td>Pickup success rate</td>\n",
       "      <td>% of (Orders status = picked ) of Count of (Order number) with a specific / range of (Shipment Created dateTime)</td>\n",
       "    </tr>\n",
       "    <tr>\n",
       "      <th>19</th>\n",
       "      <td>Pending returns</td>\n",
       "      <td>% of  of orders that are supposed to be returned back to client but not returned yet( (Order status = Cancelled ) &amp; orders with 3 delivery attempts) with a specific / range of (Pickup date time)</td>\n",
       "    </tr>\n",
       "    <tr>\n",
       "      <th>20</th>\n",
       "      <td>Pick up lead time</td>\n",
       "      <td>Average No. of hours / days between ( Shipment created date time ) &amp; (Pickup date time)</td>\n",
       "    </tr>\n",
       "    <tr>\n",
       "      <th>21</th>\n",
       "      <td>Delivery lead time</td>\n",
       "      <td>Average No. of hours / days between  (Pickup date time) &amp; ( Delivery date time )</td>\n",
       "    </tr>\n",
       "    <tr>\n",
       "      <th>24</th>\n",
       "      <td>Target column</td>\n",
       "      <td>This will be a variable number dependant on the client and the DC, Ops and AM needs access to be able to set those numbers so we can measure the variance</td>\n",
       "    </tr>\n",
       "  </tbody>\n",
       "</table>\n",
       "</div>"
      ],
      "text/plain": [
       "             Order Number  \\\n",
       "17  Delivery success rate   \n",
       "18    Pickup success rate   \n",
       "19        Pending returns   \n",
       "20      Pick up lead time   \n",
       "21     Delivery lead time   \n",
       "24          Target column   \n",
       "\n",
       "                                                                                                                                                                                            Unnamed: 1  \n",
       "17                                                                                          % of (Orders status = delivered ) of Count of (Order number) with a specific / range of (Pickup date time)  \n",
       "18                                                                                    % of (Orders status = picked ) of Count of (Order number) with a specific / range of (Shipment Created dateTime)  \n",
       "19  % of  of orders that are supposed to be returned back to client but not returned yet( (Order status = Cancelled ) & orders with 3 delivery attempts) with a specific / range of (Pickup date time)  \n",
       "20                                                                                                             Average No. of hours / days between ( Shipment created date time ) & (Pickup date time)  \n",
       "21                                                                                                                   Average No. of hours / days between  (Pickup date time) & ( Delivery date time )   \n",
       "24                                           This will be a variable number dependant on the client and the DC, Ops and AM needs access to be able to set those numbers so we can measure the variance  "
      ]
     },
     "execution_count": 35,
     "metadata": {},
     "output_type": "execute_result"
    }
   ],
   "source": [
    "df_def.iloc[[17, 18, 19, 20, 21, 24],:]"
   ]
  },
  {
   "cell_type": "code",
   "execution_count": 40,
   "id": "a2ab8f4c-cc5f-4696-9495-199c322809cc",
   "metadata": {},
   "outputs": [],
   "source": [
    "# df_dsgn = pd.read_excel(\"Ops dashboard - Assessment.xlsx\", sheet_name=\"Dashboard design\")"
   ]
  },
  {
   "cell_type": "code",
   "execution_count": 65,
   "id": "fb0c615c-db5d-4470-a5a7-f4c20b95034e",
   "metadata": {},
   "outputs": [],
   "source": [
    "df = pd.read_excel(\"Ops dashboard - Assessment.xlsx\", sheet_name=\"Raw data\")"
   ]
  },
  {
   "cell_type": "code",
   "execution_count": 8,
   "id": "4f2dbf88-d7ee-4907-8528-3e21637b84c8",
   "metadata": {},
   "outputs": [
    {
     "data": {
      "text/html": [
       "<div>\n",
       "<style scoped>\n",
       "    .dataframe tbody tr th:only-of-type {\n",
       "        vertical-align: middle;\n",
       "    }\n",
       "\n",
       "    .dataframe tbody tr th {\n",
       "        vertical-align: top;\n",
       "    }\n",
       "\n",
       "    .dataframe thead th {\n",
       "        text-align: right;\n",
       "    }\n",
       "</style>\n",
       "<table border=\"1\" class=\"dataframe\">\n",
       "  <thead>\n",
       "    <tr style=\"text-align: right;\">\n",
       "      <th></th>\n",
       "      <th>Order Number</th>\n",
       "      <th>Shipment Number</th>\n",
       "      <th>Unnamed: 2</th>\n",
       "      <th>Shipment Created dateTime</th>\n",
       "      <th>Pickup dateTime</th>\n",
       "      <th>Delivery dateTime</th>\n",
       "      <th>Pickup city</th>\n",
       "      <th>Destination City</th>\n",
       "      <th>Weight</th>\n",
       "      <th>Delivery Company</th>\n",
       "      <th>Service Type</th>\n",
       "      <th>Client Name</th>\n",
       "      <th>Account Manager</th>\n",
       "      <th>DCType</th>\n",
       "      <th>SLA Target</th>\n",
       "      <th>Order Status</th>\n",
       "    </tr>\n",
       "  </thead>\n",
       "  <tbody>\n",
       "    <tr>\n",
       "      <th>0</th>\n",
       "      <td>2.010566e+09</td>\n",
       "      <td>1630348.0</td>\n",
       "      <td>2023-01-22 00:12:35</td>\n",
       "      <td>2023-01-22 08:34:27</td>\n",
       "      <td>2023-01-22 10:06:54</td>\n",
       "      <td>2023-01-22 10:17:04</td>\n",
       "      <td>Riyadh</td>\n",
       "      <td>Riyadh</td>\n",
       "      <td>NaN</td>\n",
       "      <td>CX1</td>\n",
       "      <td>S1</td>\n",
       "      <td>Client 1</td>\n",
       "      <td>AM1</td>\n",
       "      <td>NaN</td>\n",
       "      <td>NaN</td>\n",
       "      <td>Delivered</td>\n",
       "    </tr>\n",
       "    <tr>\n",
       "      <th>1</th>\n",
       "      <td>2.010566e+09</td>\n",
       "      <td>1630348.0</td>\n",
       "      <td>2023-01-22 00:12:35</td>\n",
       "      <td>2023-01-22 08:34:27</td>\n",
       "      <td>2023-01-22 10:06:54</td>\n",
       "      <td>2023-01-22 10:17:04</td>\n",
       "      <td>Riyadh</td>\n",
       "      <td>Riyadh</td>\n",
       "      <td>NaN</td>\n",
       "      <td>CX1</td>\n",
       "      <td>S1</td>\n",
       "      <td>Client 2</td>\n",
       "      <td>AM2</td>\n",
       "      <td>NaN</td>\n",
       "      <td>NaN</td>\n",
       "      <td>Delivered</td>\n",
       "    </tr>\n",
       "    <tr>\n",
       "      <th>2</th>\n",
       "      <td>2.010566e+09</td>\n",
       "      <td>1630348.0</td>\n",
       "      <td>2023-01-22 00:12:35</td>\n",
       "      <td>2023-01-22 08:34:27</td>\n",
       "      <td>2023-01-22 10:06:54</td>\n",
       "      <td>2023-01-22 10:17:04</td>\n",
       "      <td>Riyadh</td>\n",
       "      <td>Riyadh</td>\n",
       "      <td>NaN</td>\n",
       "      <td>CX1</td>\n",
       "      <td>S1</td>\n",
       "      <td>Client 3</td>\n",
       "      <td>AM1</td>\n",
       "      <td>NaN</td>\n",
       "      <td>NaN</td>\n",
       "      <td>Delivered</td>\n",
       "    </tr>\n",
       "    <tr>\n",
       "      <th>3</th>\n",
       "      <td>2.010566e+09</td>\n",
       "      <td>1631783.0</td>\n",
       "      <td>2023-01-22 00:21:39</td>\n",
       "      <td>2023-01-22 11:40:55</td>\n",
       "      <td>2023-01-22 17:17:42</td>\n",
       "      <td>NaT</td>\n",
       "      <td>Jeddah</td>\n",
       "      <td>Makkah</td>\n",
       "      <td>NaN</td>\n",
       "      <td>CX1</td>\n",
       "      <td>S2</td>\n",
       "      <td>Client 4</td>\n",
       "      <td>AM2</td>\n",
       "      <td>NaN</td>\n",
       "      <td>NaN</td>\n",
       "      <td>Confirmed Return</td>\n",
       "    </tr>\n",
       "    <tr>\n",
       "      <th>4</th>\n",
       "      <td>2.010566e+09</td>\n",
       "      <td>1631783.0</td>\n",
       "      <td>2023-01-22 00:21:39</td>\n",
       "      <td>2023-01-22 11:40:55</td>\n",
       "      <td>2023-01-22 17:17:42</td>\n",
       "      <td>NaT</td>\n",
       "      <td>Jeddah</td>\n",
       "      <td>Makkah</td>\n",
       "      <td>NaN</td>\n",
       "      <td>CX1</td>\n",
       "      <td>S1</td>\n",
       "      <td>Client 1</td>\n",
       "      <td>AM3</td>\n",
       "      <td>NaN</td>\n",
       "      <td>NaN</td>\n",
       "      <td>Confirmed Return</td>\n",
       "    </tr>\n",
       "  </tbody>\n",
       "</table>\n",
       "</div>"
      ],
      "text/plain": [
       "   Order Number Shipment Number          Unnamed: 2 Shipment Created dateTime  \\\n",
       "0  2.010566e+09       1630348.0 2023-01-22 00:12:35       2023-01-22 08:34:27   \n",
       "1  2.010566e+09       1630348.0 2023-01-22 00:12:35       2023-01-22 08:34:27   \n",
       "2  2.010566e+09       1630348.0 2023-01-22 00:12:35       2023-01-22 08:34:27   \n",
       "3  2.010566e+09       1631783.0 2023-01-22 00:21:39       2023-01-22 11:40:55   \n",
       "4  2.010566e+09       1631783.0 2023-01-22 00:21:39       2023-01-22 11:40:55   \n",
       "\n",
       "      Pickup dateTime   Delivery dateTime Pickup city Destination City  \\\n",
       "0 2023-01-22 10:06:54 2023-01-22 10:17:04      Riyadh           Riyadh   \n",
       "1 2023-01-22 10:06:54 2023-01-22 10:17:04      Riyadh           Riyadh   \n",
       "2 2023-01-22 10:06:54 2023-01-22 10:17:04      Riyadh           Riyadh   \n",
       "3 2023-01-22 17:17:42                 NaT      Jeddah           Makkah   \n",
       "4 2023-01-22 17:17:42                 NaT      Jeddah           Makkah   \n",
       "\n",
       "   Weight Delivery Company Service Type Client Name Account Manager  DCType  \\\n",
       "0     NaN              CX1           S1    Client 1             AM1     NaN   \n",
       "1     NaN              CX1           S1    Client 2             AM2     NaN   \n",
       "2     NaN              CX1           S1    Client 3             AM1     NaN   \n",
       "3     NaN              CX1           S2    Client 4             AM2     NaN   \n",
       "4     NaN              CX1           S1    Client 1             AM3     NaN   \n",
       "\n",
       "   SLA Target       Order Status  \n",
       "0          NaN         Delivered  \n",
       "1          NaN         Delivered  \n",
       "2          NaN         Delivered  \n",
       "3          NaN  Confirmed Return  \n",
       "4          NaN  Confirmed Return  "
      ]
     },
     "execution_count": 8,
     "metadata": {},
     "output_type": "execute_result"
    }
   ],
   "source": [
    "df.head()"
   ]
  },
  {
   "cell_type": "code",
   "execution_count": 9,
   "id": "c55fd046-0a2e-45c1-a679-be39e63eec56",
   "metadata": {},
   "outputs": [
    {
     "name": "stdout",
     "output_type": "stream",
     "text": [
      "<class 'pandas.core.frame.DataFrame'>\n",
      "RangeIndex: 1420 entries, 0 to 1419\n",
      "Data columns (total 16 columns):\n",
      " #   Column                     Non-Null Count  Dtype         \n",
      "---  ------                     --------------  -----         \n",
      " 0   Order Number               1420 non-null   float64       \n",
      " 1   Shipment Number            1338 non-null   object        \n",
      " 2   Unnamed: 2                 1420 non-null   datetime64[ns]\n",
      " 3   Shipment Created dateTime  1354 non-null   datetime64[ns]\n",
      " 4   Pickup dateTime            1252 non-null   datetime64[ns]\n",
      " 5   Delivery dateTime          1107 non-null   datetime64[ns]\n",
      " 6   Pickup city                1420 non-null   object        \n",
      " 7   Destination City           1420 non-null   object        \n",
      " 8   Weight                     0 non-null      float64       \n",
      " 9   Delivery Company           1336 non-null   object        \n",
      " 10  Service Type               1420 non-null   object        \n",
      " 11  Client Name                1420 non-null   object        \n",
      " 12  Account Manager            1420 non-null   object        \n",
      " 13  DCType                     0 non-null      float64       \n",
      " 14  SLA Target                 0 non-null      float64       \n",
      " 15  Order Status               1420 non-null   object        \n",
      "dtypes: datetime64[ns](4), float64(4), object(8)\n",
      "memory usage: 177.6+ KB\n"
     ]
    }
   ],
   "source": [
    "df.info()"
   ]
  },
  {
   "cell_type": "markdown",
   "id": "4bbfa6d7-c07e-4c10-b67d-a80dde94bfa9",
   "metadata": {},
   "source": [
    "- [\"Weight\", \"DCType\", \"SLA Target\"] are useless cause they are completely nulls"
   ]
  },
  {
   "cell_type": "code",
   "execution_count": 11,
   "id": "4700dc3c-4039-4726-b6dc-13908067c3ed",
   "metadata": {},
   "outputs": [
    {
     "data": {
      "text/html": [
       "<div>\n",
       "<style scoped>\n",
       "    .dataframe tbody tr th:only-of-type {\n",
       "        vertical-align: middle;\n",
       "    }\n",
       "\n",
       "    .dataframe tbody tr th {\n",
       "        vertical-align: top;\n",
       "    }\n",
       "\n",
       "    .dataframe thead th {\n",
       "        text-align: right;\n",
       "    }\n",
       "</style>\n",
       "<table border=\"1\" class=\"dataframe\">\n",
       "  <thead>\n",
       "    <tr style=\"text-align: right;\">\n",
       "      <th></th>\n",
       "      <th>Order Number</th>\n",
       "      <th>Weight</th>\n",
       "      <th>DCType</th>\n",
       "      <th>SLA Target</th>\n",
       "    </tr>\n",
       "  </thead>\n",
       "  <tbody>\n",
       "    <tr>\n",
       "      <th>count</th>\n",
       "      <td>1.420000e+03</td>\n",
       "      <td>0.0</td>\n",
       "      <td>0.0</td>\n",
       "      <td>0.0</td>\n",
       "    </tr>\n",
       "    <tr>\n",
       "      <th>mean</th>\n",
       "      <td>1.651120e+10</td>\n",
       "      <td>NaN</td>\n",
       "      <td>NaN</td>\n",
       "      <td>NaN</td>\n",
       "    </tr>\n",
       "    <tr>\n",
       "      <th>std</th>\n",
       "      <td>5.029496e+10</td>\n",
       "      <td>NaN</td>\n",
       "      <td>NaN</td>\n",
       "      <td>NaN</td>\n",
       "    </tr>\n",
       "    <tr>\n",
       "      <th>min</th>\n",
       "      <td>1.110042e+09</td>\n",
       "      <td>NaN</td>\n",
       "      <td>NaN</td>\n",
       "      <td>NaN</td>\n",
       "    </tr>\n",
       "    <tr>\n",
       "      <th>25%</th>\n",
       "      <td>2.010566e+09</td>\n",
       "      <td>NaN</td>\n",
       "      <td>NaN</td>\n",
       "      <td>NaN</td>\n",
       "    </tr>\n",
       "    <tr>\n",
       "      <th>50%</th>\n",
       "      <td>2.010567e+09</td>\n",
       "      <td>NaN</td>\n",
       "      <td>NaN</td>\n",
       "      <td>NaN</td>\n",
       "    </tr>\n",
       "    <tr>\n",
       "      <th>75%</th>\n",
       "      <td>2.010567e+09</td>\n",
       "      <td>NaN</td>\n",
       "      <td>NaN</td>\n",
       "      <td>NaN</td>\n",
       "    </tr>\n",
       "    <tr>\n",
       "      <th>max</th>\n",
       "      <td>2.323000e+11</td>\n",
       "      <td>NaN</td>\n",
       "      <td>NaN</td>\n",
       "      <td>NaN</td>\n",
       "    </tr>\n",
       "  </tbody>\n",
       "</table>\n",
       "</div>"
      ],
      "text/plain": [
       "       Order Number  Weight  DCType  SLA Target \n",
       "count  1.420000e+03     0.0     0.0          0.0\n",
       "mean   1.651120e+10     NaN     NaN          NaN\n",
       "std    5.029496e+10     NaN     NaN          NaN\n",
       "min    1.110042e+09     NaN     NaN          NaN\n",
       "25%    2.010566e+09     NaN     NaN          NaN\n",
       "50%    2.010567e+09     NaN     NaN          NaN\n",
       "75%    2.010567e+09     NaN     NaN          NaN\n",
       "max    2.323000e+11     NaN     NaN          NaN"
      ]
     },
     "execution_count": 11,
     "metadata": {},
     "output_type": "execute_result"
    }
   ],
   "source": [
    "df.describe()"
   ]
  },
  {
   "cell_type": "code",
   "execution_count": 12,
   "id": "0ed68374-b56f-458e-938f-c9f3c6ec0029",
   "metadata": {},
   "outputs": [
    {
     "data": {
      "text/plain": [
       "Order Number                 0.000000\n",
       "Shipment Number              0.057746\n",
       "Unnamed: 2                   0.000000\n",
       "Shipment Created dateTime    0.046479\n",
       "Pickup dateTime              0.118310\n",
       "Delivery dateTime            0.220423\n",
       "Pickup city                  0.000000\n",
       "Destination City             0.000000\n",
       "Weight                       1.000000\n",
       "Delivery Company             0.059155\n",
       "Service Type                 0.000000\n",
       "Client Name                  0.000000\n",
       "Account Manager              0.000000\n",
       "DCType                       1.000000\n",
       "SLA Target                   1.000000\n",
       "Order Status                 0.000000\n",
       "dtype: float64"
      ]
     },
     "execution_count": 12,
     "metadata": {},
     "output_type": "execute_result"
    }
   ],
   "source": [
    "df.isna().mean()"
   ]
  },
  {
   "cell_type": "code",
   "execution_count": 13,
   "id": "d51bc029-a954-40e2-9ec4-eed2b024c206",
   "metadata": {},
   "outputs": [
    {
     "data": {
      "text/plain": [
       "(1420, 16)"
      ]
     },
     "execution_count": 13,
     "metadata": {},
     "output_type": "execute_result"
    }
   ],
   "source": [
    "df.shape"
   ]
  },
  {
   "cell_type": "code",
   "execution_count": 14,
   "id": "e8c06002-cdd0-48c9-86b3-882630f7d35a",
   "metadata": {},
   "outputs": [
    {
     "data": {
      "text/plain": [
       "Order Number                        float64\n",
       "Shipment Number                      object\n",
       "Unnamed: 2                   datetime64[ns]\n",
       "Shipment Created dateTime    datetime64[ns]\n",
       "Pickup dateTime              datetime64[ns]\n",
       "Delivery dateTime            datetime64[ns]\n",
       "Pickup city                          object\n",
       "Destination City                     object\n",
       "Weight                              float64\n",
       "Delivery Company                     object\n",
       "Service Type                         object\n",
       "Client Name                          object\n",
       "Account Manager                      object\n",
       "DCType                              float64\n",
       "SLA Target                          float64\n",
       "Order Status                         object\n",
       "dtype: object"
      ]
     },
     "execution_count": 14,
     "metadata": {},
     "output_type": "execute_result"
    }
   ],
   "source": [
    "df.dtypes"
   ]
  },
  {
   "cell_type": "code",
   "execution_count": 17,
   "id": "a48484f0-ba61-4909-b10d-35740cbc47cc",
   "metadata": {},
   "outputs": [
    {
     "data": {
      "text/plain": [
       "RangeIndex(start=0, stop=1420, step=1)"
      ]
     },
     "execution_count": 17,
     "metadata": {},
     "output_type": "execute_result"
    }
   ],
   "source": [
    "df.index"
   ]
  },
  {
   "cell_type": "code",
   "execution_count": 45,
   "id": "ae13d8b8-146a-49d1-a8d4-6d9492ea5a81",
   "metadata": {},
   "outputs": [
    {
     "data": {
      "text/plain": [
       "array(['Delivered', 'Confirmed Return', 'Canceled',\n",
       "       'Arrived destination terminal', 'Arrived origin terminal',\n",
       "       'Assigned to Warehouse', 'Undelivered Attempt', 'Shipment On Hold',\n",
       "       'Returned', 'Shipment On Hold by Warehouse', 'Out for Delivery',\n",
       "       'Branch assigned', 'In Transit', 'Shipment created', 'Picked up'],\n",
       "      dtype=object)"
      ]
     },
     "execution_count": 45,
     "metadata": {},
     "output_type": "execute_result"
    }
   ],
   "source": [
    "df[\"Order Status\"].unique()"
   ]
  },
  {
   "cell_type": "code",
   "execution_count": 46,
   "id": "4e422590-ce94-42e7-99b9-ea1426432c40",
   "metadata": {},
   "outputs": [
    {
     "data": {
      "text/plain": [
       "0      2023-01-22 10:06:54\n",
       "1      2023-01-22 10:06:54\n",
       "2      2023-01-22 10:06:54\n",
       "3      2023-01-22 17:17:42\n",
       "4      2023-01-22 17:17:42\n",
       "               ...        \n",
       "1415                   NaT\n",
       "1416                   NaT\n",
       "1417                   NaT\n",
       "1418                   NaT\n",
       "1419                   NaT\n",
       "Name: Pickup dateTime, Length: 1420, dtype: datetime64[ns]"
      ]
     },
     "execution_count": 46,
     "metadata": {},
     "output_type": "execute_result"
    }
   ],
   "source": [
    "df[\"Pickup dateTime\"]"
   ]
  },
  {
   "cell_type": "code",
   "execution_count": 47,
   "id": "10012299-eaee-436c-8861-b0ea08b26142",
   "metadata": {},
   "outputs": [
    {
     "data": {
      "text/plain": [
       "0      2023-01-22 08:34:27\n",
       "1      2023-01-22 08:34:27\n",
       "2      2023-01-22 08:34:27\n",
       "3      2023-01-22 11:40:55\n",
       "4      2023-01-22 11:40:55\n",
       "               ...        \n",
       "1415                   NaT\n",
       "1416                   NaT\n",
       "1417                   NaT\n",
       "1418                   NaT\n",
       "1419                   NaT\n",
       "Name: Shipment Created dateTime, Length: 1420, dtype: datetime64[ns]"
      ]
     },
     "execution_count": 47,
     "metadata": {},
     "output_type": "execute_result"
    }
   ],
   "source": [
    "df[\"Shipment Created dateTime\"]"
   ]
  },
  {
   "cell_type": "code",
   "execution_count": 48,
   "id": "f14afece-9d23-4e6b-804d-64fbb5fb9e04",
   "metadata": {},
   "outputs": [
    {
     "data": {
      "text/plain": [
       "0      2023-01-22 10:17:04\n",
       "1      2023-01-22 10:17:04\n",
       "2      2023-01-22 10:17:04\n",
       "3                      NaT\n",
       "4                      NaT\n",
       "               ...        \n",
       "1415                   NaT\n",
       "1416                   NaT\n",
       "1417                   NaT\n",
       "1418                   NaT\n",
       "1419                   NaT\n",
       "Name: Delivery dateTime, Length: 1420, dtype: datetime64[ns]"
      ]
     },
     "execution_count": 48,
     "metadata": {},
     "output_type": "execute_result"
    }
   ],
   "source": [
    "df[\"Delivery dateTime\"]"
   ]
  },
  {
   "cell_type": "code",
   "execution_count": 50,
   "id": "be303f91-5b43-426a-ab64-30acf151c8e7",
   "metadata": {},
   "outputs": [
    {
     "ename": "AttributeError",
     "evalue": "'Series' object has no attribute 'timestamp'",
     "output_type": "error",
     "traceback": [
      "\u001b[1;31m---------------------------------------------------------------------------\u001b[0m",
      "\u001b[1;31mAttributeError\u001b[0m                            Traceback (most recent call last)",
      "\u001b[1;32m~\\AppData\\Local\\Temp/ipykernel_7328/3024659920.py\u001b[0m in \u001b[0;36m<module>\u001b[1;34m\u001b[0m\n\u001b[1;32m----> 1\u001b[1;33m \u001b[0mdf\u001b[0m\u001b[1;33m[\u001b[0m\u001b[1;34m\"Shipment Created dateTime\"\u001b[0m\u001b[1;33m]\u001b[0m\u001b[1;33m.\u001b[0m\u001b[0mtimestamp\u001b[0m\u001b[1;33m(\u001b[0m\u001b[1;33m)\u001b[0m\u001b[1;31m#-df[\"Delivery dateTime\"]\u001b[0m\u001b[1;33m\u001b[0m\u001b[1;33m\u001b[0m\u001b[0m\n\u001b[0m",
      "\u001b[1;32m~\\anaconda3\\lib\\site-packages\\pandas\\core\\generic.py\u001b[0m in \u001b[0;36m__getattr__\u001b[1;34m(self, name)\u001b[0m\n\u001b[0;32m   5485\u001b[0m         ):\n\u001b[0;32m   5486\u001b[0m             \u001b[1;32mreturn\u001b[0m \u001b[0mself\u001b[0m\u001b[1;33m[\u001b[0m\u001b[0mname\u001b[0m\u001b[1;33m]\u001b[0m\u001b[1;33m\u001b[0m\u001b[1;33m\u001b[0m\u001b[0m\n\u001b[1;32m-> 5487\u001b[1;33m         \u001b[1;32mreturn\u001b[0m \u001b[0mobject\u001b[0m\u001b[1;33m.\u001b[0m\u001b[0m__getattribute__\u001b[0m\u001b[1;33m(\u001b[0m\u001b[0mself\u001b[0m\u001b[1;33m,\u001b[0m \u001b[0mname\u001b[0m\u001b[1;33m)\u001b[0m\u001b[1;33m\u001b[0m\u001b[1;33m\u001b[0m\u001b[0m\n\u001b[0m\u001b[0;32m   5488\u001b[0m \u001b[1;33m\u001b[0m\u001b[0m\n\u001b[0;32m   5489\u001b[0m     \u001b[1;32mdef\u001b[0m \u001b[0m__setattr__\u001b[0m\u001b[1;33m(\u001b[0m\u001b[0mself\u001b[0m\u001b[1;33m,\u001b[0m \u001b[0mname\u001b[0m\u001b[1;33m:\u001b[0m \u001b[0mstr\u001b[0m\u001b[1;33m,\u001b[0m \u001b[0mvalue\u001b[0m\u001b[1;33m)\u001b[0m \u001b[1;33m->\u001b[0m \u001b[1;32mNone\u001b[0m\u001b[1;33m:\u001b[0m\u001b[1;33m\u001b[0m\u001b[1;33m\u001b[0m\u001b[0m\n",
      "\u001b[1;31mAttributeError\u001b[0m: 'Series' object has no attribute 'timestamp'"
     ]
    }
   ],
   "source": [
    "df[\"Shipment Created dateTime\"].timestamp()#-df[\"Delivery dateTime\"]"
   ]
  },
  {
   "cell_type": "code",
   "execution_count": 53,
   "id": "9abb7adc-1282-4528-afae-b0c60789606b",
   "metadata": {},
   "outputs": [
    {
     "data": {
      "text/plain": [
       "dtype('<M8[ns]')"
      ]
     },
     "execution_count": 53,
     "metadata": {},
     "output_type": "execute_result"
    }
   ],
   "source": [
    "df[\"Delivery dateTime\"].dtypes"
   ]
  },
  {
   "cell_type": "code",
   "execution_count": 64,
   "id": "557a1aee-1c5d-4266-8317-63d393246be4",
   "metadata": {},
   "outputs": [
    {
     "ename": "TypeError",
     "evalue": "Cannot convert input [0      2023-01-22 10:17:04\n1      2023-01-22 10:17:04\n2      2023-01-22 10:17:04\n3                      NaT\n4                      NaT\n               ...        \n1415                   NaT\n1416                   NaT\n1417                   NaT\n1418                   NaT\n1419                   NaT\nName: Delivery dateTime, Length: 1420, dtype: datetime64[ns]] of type <class 'pandas.core.series.Series'> to Timestamp",
     "output_type": "error",
     "traceback": [
      "\u001b[1;31m---------------------------------------------------------------------------\u001b[0m",
      "\u001b[1;31mTypeError\u001b[0m                                 Traceback (most recent call last)",
      "\u001b[1;32m~\\AppData\\Local\\Temp/ipykernel_7328/1879670710.py\u001b[0m in \u001b[0;36m<module>\u001b[1;34m\u001b[0m\n\u001b[1;32m----> 1\u001b[1;33m \u001b[0mpd\u001b[0m\u001b[1;33m.\u001b[0m\u001b[0mTimestamp\u001b[0m\u001b[1;33m(\u001b[0m\u001b[0mdf\u001b[0m\u001b[1;33m[\u001b[0m\u001b[1;34m\"Delivery dateTime\"\u001b[0m\u001b[1;33m]\u001b[0m\u001b[1;33m)\u001b[0m\u001b[1;33m\u001b[0m\u001b[1;33m\u001b[0m\u001b[0m\n\u001b[0m",
      "\u001b[1;32m~\\anaconda3\\lib\\site-packages\\pandas\\_libs\\tslibs\\timestamps.pyx\u001b[0m in \u001b[0;36mpandas._libs.tslibs.timestamps.Timestamp.__new__\u001b[1;34m()\u001b[0m\n",
      "\u001b[1;32m~\\anaconda3\\lib\\site-packages\\pandas\\_libs\\tslibs\\conversion.pyx\u001b[0m in \u001b[0;36mpandas._libs.tslibs.conversion.convert_to_tsobject\u001b[1;34m()\u001b[0m\n",
      "\u001b[1;31mTypeError\u001b[0m: Cannot convert input [0      2023-01-22 10:17:04\n1      2023-01-22 10:17:04\n2      2023-01-22 10:17:04\n3                      NaT\n4                      NaT\n               ...        \n1415                   NaT\n1416                   NaT\n1417                   NaT\n1418                   NaT\n1419                   NaT\nName: Delivery dateTime, Length: 1420, dtype: datetime64[ns]] of type <class 'pandas.core.series.Series'> to Timestamp"
     ]
    }
   ],
   "source": [
    "pd.Timestamp(df[\"Delivery dateTime\"])"
   ]
  },
  {
   "cell_type": "code",
   "execution_count": 87,
   "id": "1be93ea4-aabd-4a0c-a752-b1f56854716c",
   "metadata": {},
   "outputs": [
    {
     "data": {
      "text/plain": [
       "0      2023-01-22 10:17:04\n",
       "1      2023-01-22 10:17:04\n",
       "2      2023-01-22 10:17:04\n",
       "3                      NaT\n",
       "4                      NaT\n",
       "               ...        \n",
       "1415                   NaT\n",
       "1416                   NaT\n",
       "1417                   NaT\n",
       "1418                   NaT\n",
       "1419                   NaT\n",
       "Name: Delivery dateTime, Length: 1420, dtype: datetime64[ns]"
      ]
     },
     "execution_count": 87,
     "metadata": {},
     "output_type": "execute_result"
    }
   ],
   "source": [
    "pd.to_datetime((df[\"Delivery dateTime\"]))"
   ]
  },
  {
   "cell_type": "code",
   "execution_count": null,
   "id": "66d9f540-5d7d-4b45-aa16-3c44e6d12bbc",
   "metadata": {},
   "outputs": [],
   "source": []
  }
 ],
 "metadata": {
  "kernelspec": {
   "display_name": "Python 3 (ipykernel)",
   "language": "python",
   "name": "python3"
  },
  "language_info": {
   "codemirror_mode": {
    "name": "ipython",
    "version": 3
   },
   "file_extension": ".py",
   "mimetype": "text/x-python",
   "name": "python",
   "nbconvert_exporter": "python",
   "pygments_lexer": "ipython3",
   "version": "3.9.7"
  }
 },
 "nbformat": 4,
 "nbformat_minor": 5
}
